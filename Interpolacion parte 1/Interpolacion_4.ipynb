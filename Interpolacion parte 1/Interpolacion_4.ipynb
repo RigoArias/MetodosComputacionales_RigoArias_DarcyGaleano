{
  "nbformat": 4,
  "nbformat_minor": 0,
  "metadata": {
    "colab": {
      "provenance": []
    },
    "kernelspec": {
      "name": "python3",
      "display_name": "Python 3"
    },
    "language_info": {
      "name": "python"
    }
  },
  "cells": [
    {
      "cell_type": "code",
      "execution_count": 13,
      "metadata": {
        "colab": {
          "base_uri": "https://localhost:8080/"
        },
        "id": "HNTXSztn3lun",
        "outputId": "a3342b99-9c26-4030-d083-4098fdbe8309"
      },
      "outputs": [
        {
          "output_type": "stream",
          "name": "stdout",
          "text": [
            "Velocidad inicial estimada (V0): 10.0 m/s\n",
            "Ángulo de lanzamiento estimado (theta): 20.0 grados\n",
            "Vector velocidad inicial: (9.40, 3.42) m/s\n"
          ]
        }
      ],
      "source": [
        "#Ejercicios de interpolacion\n",
        "# Ejercicio 4\n",
        "\n",
        "import numpy as np\n",
        "import matplotlib.pyplot as plt\n",
        "\n",
        "x = np.array([1.4, 3.5, 5.6])\n",
        "y = np.array([0.4007954931819738, 0.594128102489774, 0.29802795523938164])\n",
        "\n",
        "# Interpolación cuadrática\n",
        "coeficientes = np.polyfit(x, y, 2)\n",
        "a, b, c = coeficientes\n",
        "\n",
        "# La ecuación de la trayectoria de la bala es:\n",
        "# y = x * tan(theta) - (g * x^2) / (2 * V0^2 * cos^2(theta))\n",
        "# tan(theta) = b\n",
        "# - (g / (2 * V0^2 * cos^2(theta))) = a\n",
        "\n",
        "theta_rad = np.arctan(b)\n",
        "theta_deg = np.degrees(theta_rad)\n",
        "V0_squared = - ( (9.8) / (2 * a * np.cos(theta_rad)**2))\n",
        "V0 = np.sqrt(V0_squared)\n",
        "\n",
        "print(f\"Velocidad inicial estimada (V0): {V0} m/s\")\n",
        "print(f\"Ángulo de lanzamiento estimado (theta): {theta_deg} grados\")\n",
        "\n",
        "# Mostrar el vector de velocidad inicial\n",
        "V0_x = V0 * np.cos(theta_rad)\n",
        "V0_y = V0 * np.sin(theta_rad)\n",
        "\n",
        "print(f\"Vector velocidad inicial: ({V0_x:.2f}, {V0_y:.2f}) m/s\")\n",
        "\n"
      ]
    }
  ]
}