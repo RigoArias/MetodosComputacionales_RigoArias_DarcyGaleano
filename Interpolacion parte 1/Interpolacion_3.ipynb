{
  "nbformat": 4,
  "nbformat_minor": 0,
  "metadata": {
    "colab": {
      "provenance": []
    },
    "kernelspec": {
      "name": "python3",
      "display_name": "Python 3"
    },
    "language_info": {
      "name": "python"
    }
  },
  "cells": [
    {
      "cell_type": "code",
      "execution_count": 15,
      "metadata": {
        "colab": {
          "base_uri": "https://localhost:8080/"
        },
        "id": "Hx2txIrjTb7Y",
        "outputId": "c8ff9dd8-3b98-4393-b73a-133df75929f8"
      },
      "outputs": [
        {
          "output_type": "stream",
          "name": "stdout",
          "text": [
            "0.00111770648584472\n"
          ]
        }
      ],
      "source": [
        "import numpy as np\n",
        "import matplotlib.pyplot as plt\n",
        "import sympy as sym\n",
        "import math\n",
        "\n",
        "\n",
        "x0 = 100\n",
        "x1 = 121\n",
        "x2 = 144\n",
        "f_x0 = np.sqrt(x0)\n",
        "f_x1 = np.sqrt(x1)\n",
        "f_x2 = np.sqrt(x2)\n",
        "\n",
        "x = 114\n",
        "\n",
        "L0 = ((x - x1) * (x - x2)) / ((x0 - x1) * (x0 - x2))\n",
        "L1 = ((x - x0) * (x - x2)) / ((x1 - x0) * (x1 - x2))\n",
        "L2 = ((x - x0) * (x - x1)) / ((x2 - x0) * (x2 - x1))\n",
        "f = L0 * f_x0 + L1 * f_x1 + L2 * f_x2\n",
        "\n",
        "x_sym = sym.symbols('x')\n",
        "f_sym = sym.sqrt(x_sym)\n",
        "f_deriv_3 = sym.diff(f_sym, x_sym, 3)\n",
        "\n",
        "diff_product = (x - x0) * (x - x1) * (x - x2)\n",
        "factorial = math.factorial(3)\n",
        "xi = (x0 + x2) / 2\n",
        "f_deriv_3_evaluate = f_deriv_3.subs(x_sym, xi)\n",
        "error = (f_deriv_3_evaluate / factorial) * diff_product\n",
        "\n",
        "print(error)"
      ]
    }
  ]
}