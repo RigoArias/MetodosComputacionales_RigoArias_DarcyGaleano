{
  "nbformat": 4,
  "nbformat_minor": 0,
  "metadata": {
    "colab": {
      "provenance": [],
      "authorship_tag": "ABX9TyNX0BiBYau9+PPzuuIJt5dg",
      "include_colab_link": true
    },
    "kernelspec": {
      "name": "python3",
      "display_name": "Python 3"
    },
    "language_info": {
      "name": "python"
    }
  },
  "cells": [
    {
      "cell_type": "markdown",
      "metadata": {
        "id": "view-in-github",
        "colab_type": "text"
      },
      "source": [
        "<a href=\"https://colab.research.google.com/github/RigoArias/MetodosComputacionales_RigoArias_DarcyGaleano/blob/main/Tarea%204/Tarea_4.ipynb\" target=\"_parent\"><img src=\"https://colab.research.google.com/assets/colab-badge.svg\" alt=\"Open In Colab\"/></a>"
      ]
    },
    {
      "cell_type": "code",
      "execution_count": null,
      "metadata": {
        "colab": {
          "base_uri": "https://localhost:8080/"
        },
        "id": "3K4wfmZSG_pW",
        "outputId": "27f65220-6937-4963-de69-6ad723fa13c0"
      },
      "outputs": [
        {
          "output_type": "stream",
          "name": "stdout",
          "text": [
            "[[4, -2, 1], [20, -7, 12], [-8, 13, 21]]\n"
          ]
        }
      ],
      "source": [
        "#Ejercicio 4\n",
        "\n",
        "def multiplicacion_de_matrices(A, B):\n",
        "    filas_a = len(A)\n",
        "    columnas_a= len(A[0])\n",
        "    filas_b = len(B)\n",
        "    columnas_b = len(B[0])\n",
        "\n",
        "    r=[]\n",
        "    for i in range(filas_a):\n",
        "        nueva_fila = []\n",
        "        for j in range(columnas_b):\n",
        "            nueva_fila.append(0)\n",
        "        r.append(nueva_fila)\n",
        "\n",
        "    for i in range(filas_a):\n",
        "        for j in range(columnas_b):\n",
        "            for k in range(columnas_a):\n",
        "                r[i][j] += A[i][k] * B[k][j]\n",
        "    return r\n",
        "\n",
        "A=[[1,0,0],[5,1,0],[-2,3,1]]\n",
        "B=[[4,-2,1],[0,3,7],[0,0,2]]\n",
        "print(multiplicacion_de_matrices(A,B))"
      ]
    },
    {
      "cell_type": "code",
      "source": [
        "# Ejercicio 8\n",
        "\n",
        "import numpy as np\n",
        "\n",
        "def descomposicion_LU(A):\n",
        "  n= A.shape[0]\n",
        "  L= np.zeros((n,n))\n",
        "  U= np.zeros((n,n))\n",
        "\n",
        "  for i in range(n):\n",
        "    for j in range(i,n):\n",
        "      U[i][j]=A[i][j]\n",
        "      for k in range(i):\n",
        "        U[i][j] -= L[i][k]*U[k][j]\n",
        "    for j in range(i,n):\n",
        "      if i==j:\n",
        "        L[i][i]=1\n",
        "      else:\n",
        "        L[j][i]=A[j][i]\n",
        "        for k in range (i):\n",
        "          L[j][i] -= L[j][k]*U[k][i]\n",
        "        L[j][i] /= U[i][i]\n",
        "  return L,U\n",
        "\n",
        "\n",
        "A= np.array([[4,-2,1],[20,-7,12],[-8,13,17]])\n",
        "L,U= descomposicion_LU(A)\n",
        "print(L)\n",
        "print(U)"
      ],
      "metadata": {
        "colab": {
          "base_uri": "https://localhost:8080/"
        },
        "id": "ROG5I6KNLnSh",
        "outputId": "a51b2d49-eac8-49eb-e58b-0118e4c8f537"
      },
      "execution_count": null,
      "outputs": [
        {
          "output_type": "stream",
          "name": "stdout",
          "text": [
            "[[ 1.  0.  0.]\n",
            " [ 5.  1.  0.]\n",
            " [-2.  3.  1.]]\n",
            "[[ 4. -2.  1.]\n",
            " [ 0.  3.  7.]\n",
            " [ 0.  0. -2.]]\n"
          ]
        }
      ]
    },
    {
      "cell_type": "code",
      "source": [
        "#Ejercicio 12\n",
        "#SISTEMA 1\n",
        "import numpy as np\n",
        "\n",
        "def f(x):\n",
        "    x1, x2 = x\n",
        "    return np.array([\n",
        "        np.log(x1**2 + x2**2) - np.sin(x1 * x2) - np.log(2) - np.log(np.pi),\n",
        "        np.exp(x1 - x2) + np.cos(x1 * x2)\n",
        "    ])\n",
        "\n",
        "def jacobian(x):\n",
        "    x1, x2 = x\n",
        "    return np.array([\n",
        "        [2 * x1 / (x1**2 + x2**2) - x2 * np.cos(x1 * x2), 2 * x2 / (x1**2 + x2**2) - x1 * np.cos(x1 * x2)],\n",
        "        [np.exp(x1 - x2), -np.exp(x1 - x2) - x1 * np.sin(x1 * x2)]\n",
        "    ])\n",
        "\n",
        "def newton_raphson(x0, tol=1e-10, max_iter=100):\n",
        "    x = x0\n",
        "    for _ in range(max_iter):\n",
        "        J = jacobian(x)\n",
        "        f_val = f(x)\n",
        "        delta = np.linalg.solve(J, f_val)\n",
        "        x = x - delta\n",
        "        if np.linalg.norm(f_val, ord=2) < tol:\n",
        "            return x\n",
        "    return x\n",
        "\n",
        "x0 = np.array([2, 2])\n",
        "solution_1 = newton_raphson(x0)\n",
        "\n",
        "print(\"Solución del Sistema 1 (Newton-Raphson):\")\n",
        "print(solution_1)\n",
        "\n",
        "def  descenso_del_gradiente(x0, alpha=0.01, tol=1e-10, max_iter=1000):\n",
        "    x = x0\n",
        "    for _ in range(max_iter):\n",
        "        grad = jacobian(x).T @ f(x)\n",
        "        x = x - alpha * grad\n",
        "        if np.linalg.norm(f(x), ord=2) < tol:\n",
        "            return x\n",
        "    return x\n",
        "\n",
        "solution_1_gd = descenso_del_gradiente(x0)\n",
        "\n",
        "print(\"\\nSolución del Sistema 1 (Descenso del Gradiente):\")\n",
        "print(solution_1_gd)\n",
        "\n",
        "\n",
        "\n"
      ],
      "metadata": {
        "colab": {
          "base_uri": "https://localhost:8080/"
        },
        "id": "mYU1hVnWVQjd",
        "outputId": "8b67e9fb-188f-4fec-cd43-fdc68a505fe1"
      },
      "execution_count": null,
      "outputs": [
        {
          "output_type": "stream",
          "name": "stdout",
          "text": [
            "Solución del Sistema 1 (Newton-Raphson):\n",
            "[1.77245385 1.77245385]\n",
            "\n",
            "Solución del Sistema 1 (Descenso del Gradiente):\n",
            "[1.77245385 1.77245385]\n"
          ]
        }
      ]
    },
    {
      "cell_type": "code",
      "source": [
        "\n"
      ],
      "metadata": {
        "id": "BLgFLLzhaBTa"
      },
      "execution_count": null,
      "outputs": []
    }
  ]
}