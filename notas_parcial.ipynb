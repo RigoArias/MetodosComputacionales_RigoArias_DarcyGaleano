{
  "nbformat": 4,
  "nbformat_minor": 0,
  "metadata": {
    "colab": {
      "provenance": [],
      "authorship_tag": "ABX9TyPcF0RniDM4JcbAEmRrLMX6",
      "include_colab_link": true
    },
    "kernelspec": {
      "name": "python3",
      "display_name": "Python 3"
    },
    "language_info": {
      "name": "python"
    }
  },
  "cells": [
    {
      "cell_type": "markdown",
      "metadata": {
        "id": "view-in-github",
        "colab_type": "text"
      },
      "source": [
        "<a href=\"https://colab.research.google.com/github/RigoArias/MetodosComputacionales_RigoArias_DarcyGaleano/blob/main/notas_parcial.ipynb\" target=\"_parent\"><img src=\"https://colab.research.google.com/assets/colab-badge.svg\" alt=\"Open In Colab\"/></a>"
      ]
    },
    {
      "cell_type": "code",
      "execution_count": null,
      "metadata": {
        "colab": {
          "base_uri": "https://localhost:8080/"
        },
        "id": "tRp8GeorX2pF",
        "outputId": "6a072574-8ebb-4ab2-93e4-fc91d7adc141"
      },
      "outputs": [
        {
          "output_type": "stream",
          "name": "stdout",
          "text": [
            "-0.0\n"
          ]
        }
      ],
      "source": [
        "import numpy as np\n",
        "import matplotlib.pyplot as plt\n",
        "\n",
        "\n",
        "def Function(x):\n",
        "  return 0.5*(5*x**3 - 3*x)\n",
        "\n",
        "def Derivative(f,x,h=1e-4):\n",
        "  return (f(x+h)-f(x-h))/(2*h)\n",
        "def Derivative2(f,x,h=1e-4):\n",
        "  return (f(x+h)-2*f(x)+f(x-h))/(h**2)\n",
        "\n",
        "def GetDistance(x):\n",
        "\n",
        "  # p[n]: valores del punto\n",
        "\n",
        "  return np.sqrt( ( p[0] - x )**2 + (p[1] - Funcion(x))**2 )\n",
        "\n",
        "d = GetDistance(x)\n",
        "ii = np.where( d == np.amin(d) )\n",
        "'''\n",
        "\n",
        "x[ii]: Valor de x en el índice de la distancia mínima.\n",
        "Recta(x[ii]): Valor de la función Recta en ese punto.\n",
        "d[ii]: Valor de la distancia mínima.\n",
        "\n",
        "'''\n",
        "\n",
        "def GetNewtonMethod(f,xn,itmax=100,precision=1e-8):\n",
        "\n",
        "  error = 1\n",
        "  it = 0\n",
        "\n",
        "  while error > precision and it < itmax:\n",
        "    try:\n",
        "      xn1 = xn - Derivative(f,xn)/Derivative2(f,xn)\n",
        "      error = np.abs(Derivative(f,xn)/Derivative2(f,xn))\n",
        "    except ZeroDivisionError:\n",
        "      print('Division by zero error')\n",
        "    xn = xn1\n",
        "    it += 1\n",
        " # print(it,xn)\n",
        "  if it == itmax:\n",
        "    return False\n",
        "  else:\n",
        "    return xn\n",
        "\n",
        "def GetAllRoots(x, tolerancia = 16):\n",
        "\n",
        "  Roots = np.array([])\n",
        "\n",
        "  for i in x:\n",
        "\n",
        "    root = GetNewtonMethod(Function,Derivative,i)\n",
        "\n",
        "    if root != False:\n",
        "\n",
        "      croot = np.round( root, tolerancia)\n",
        "\n",
        "      if croot not in Roots:\n",
        "        Roots = np.append(Roots,croot)\n",
        "\n",
        "  Roots.sort()\n",
        "\n",
        "  return Roots\n",
        "\n",
        "xtrial = np.linspace(-1,1,100)\n",
        "Roots = GetAllRoots(xtrial)\n",
        "print(Roots[1])"
      ]
    }
  ]
}